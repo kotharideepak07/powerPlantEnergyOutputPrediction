{
 "cells": [
  {
   "cell_type": "code",
   "execution_count": 89,
   "metadata": {},
   "outputs": [],
   "source": [
    "import pandas as pd\n",
    "import numpy as np\n",
    "import matplotlib.pyplot as plt\n",
    "\n",
    "%matplotlib inline"
   ]
  },
  {
   "cell_type": "code",
   "execution_count": 90,
   "metadata": {},
   "outputs": [],
   "source": [
    "dataset = pd.read_csv(\"E:/JupyterProjects/Machine_Hack/Train.csv\")"
   ]
  },
  {
   "cell_type": "code",
   "execution_count": 91,
   "metadata": {},
   "outputs": [
    {
     "data": {
      "text/html": [
       "<div>\n",
       "<style scoped>\n",
       "    .dataframe tbody tr th:only-of-type {\n",
       "        vertical-align: middle;\n",
       "    }\n",
       "\n",
       "    .dataframe tbody tr th {\n",
       "        vertical-align: top;\n",
       "    }\n",
       "\n",
       "    .dataframe thead th {\n",
       "        text-align: right;\n",
       "    }\n",
       "</style>\n",
       "<table border=\"1\" class=\"dataframe\">\n",
       "  <thead>\n",
       "    <tr style=\"text-align: right;\">\n",
       "      <th></th>\n",
       "      <th>AT</th>\n",
       "      <th>V</th>\n",
       "      <th>AP</th>\n",
       "      <th>RH</th>\n",
       "      <th>PE</th>\n",
       "    </tr>\n",
       "  </thead>\n",
       "  <tbody>\n",
       "    <tr>\n",
       "      <th>0</th>\n",
       "      <td>29.07</td>\n",
       "      <td>72.51</td>\n",
       "      <td>1009.24</td>\n",
       "      <td>58.38</td>\n",
       "      <td>449.371855</td>\n",
       "    </tr>\n",
       "    <tr>\n",
       "      <th>1</th>\n",
       "      <td>32.38</td>\n",
       "      <td>67.17</td>\n",
       "      <td>1006.97</td>\n",
       "      <td>60.04</td>\n",
       "      <td>450.861043</td>\n",
       "    </tr>\n",
       "    <tr>\n",
       "      <th>2</th>\n",
       "      <td>19.29</td>\n",
       "      <td>67.71</td>\n",
       "      <td>1007.94</td>\n",
       "      <td>63.71</td>\n",
       "      <td>460.894029</td>\n",
       "    </tr>\n",
       "    <tr>\n",
       "      <th>3</th>\n",
       "      <td>16.45</td>\n",
       "      <td>41.48</td>\n",
       "      <td>1016.64</td>\n",
       "      <td>45.21</td>\n",
       "      <td>467.577314</td>\n",
       "    </tr>\n",
       "    <tr>\n",
       "      <th>4</th>\n",
       "      <td>21.43</td>\n",
       "      <td>46.97</td>\n",
       "      <td>1013.94</td>\n",
       "      <td>61.25</td>\n",
       "      <td>469.805723</td>\n",
       "    </tr>\n",
       "  </tbody>\n",
       "</table>\n",
       "</div>"
      ],
      "text/plain": [
       "      AT      V       AP     RH          PE\n",
       "0  29.07  72.51  1009.24  58.38  449.371855\n",
       "1  32.38  67.17  1006.97  60.04  450.861043\n",
       "2  19.29  67.71  1007.94  63.71  460.894029\n",
       "3  16.45  41.48  1016.64  45.21  467.577314\n",
       "4  21.43  46.97  1013.94  61.25  469.805723"
      ]
     },
     "execution_count": 91,
     "metadata": {},
     "output_type": "execute_result"
    }
   ],
   "source": [
    "dataset.head()"
   ]
  },
  {
   "cell_type": "code",
   "execution_count": 92,
   "metadata": {},
   "outputs": [
    {
     "data": {
      "text/plain": [
       "(9568, 5)"
      ]
     },
     "execution_count": 92,
     "metadata": {},
     "output_type": "execute_result"
    }
   ],
   "source": [
    "dataset.shape"
   ]
  },
  {
   "cell_type": "code",
   "execution_count": 93,
   "metadata": {},
   "outputs": [],
   "source": [
    "dataset = pd.concat([dataset]*20, ignore_index=True)"
   ]
  },
  {
   "cell_type": "code",
   "execution_count": 94,
   "metadata": {},
   "outputs": [
    {
     "data": {
      "text/plain": [
       "(191360, 5)"
      ]
     },
     "execution_count": 94,
     "metadata": {},
     "output_type": "execute_result"
    }
   ],
   "source": [
    "dataset.shape"
   ]
  },
  {
   "cell_type": "code",
   "execution_count": 95,
   "metadata": {},
   "outputs": [
    {
     "data": {
      "text/html": [
       "<div>\n",
       "<style scoped>\n",
       "    .dataframe tbody tr th:only-of-type {\n",
       "        vertical-align: middle;\n",
       "    }\n",
       "\n",
       "    .dataframe tbody tr th {\n",
       "        vertical-align: top;\n",
       "    }\n",
       "\n",
       "    .dataframe thead th {\n",
       "        text-align: right;\n",
       "    }\n",
       "</style>\n",
       "<table border=\"1\" class=\"dataframe\">\n",
       "  <thead>\n",
       "    <tr style=\"text-align: right;\">\n",
       "      <th></th>\n",
       "      <th>AT</th>\n",
       "      <th>V</th>\n",
       "      <th>AP</th>\n",
       "      <th>RH</th>\n",
       "      <th>PE</th>\n",
       "    </tr>\n",
       "  </thead>\n",
       "  <tbody>\n",
       "    <tr>\n",
       "      <th>count</th>\n",
       "      <td>191360.000000</td>\n",
       "      <td>191360.000000</td>\n",
       "      <td>191360.000000</td>\n",
       "      <td>191360.000000</td>\n",
       "      <td>191360.000000</td>\n",
       "    </tr>\n",
       "    <tr>\n",
       "      <th>mean</th>\n",
       "      <td>19.723857</td>\n",
       "      <td>54.461361</td>\n",
       "      <td>1013.318927</td>\n",
       "      <td>73.165178</td>\n",
       "      <td>466.473971</td>\n",
       "    </tr>\n",
       "    <tr>\n",
       "      <th>std</th>\n",
       "      <td>7.407627</td>\n",
       "      <td>12.679343</td>\n",
       "      <td>5.905789</td>\n",
       "      <td>14.618244</td>\n",
       "      <td>17.039985</td>\n",
       "    </tr>\n",
       "    <tr>\n",
       "      <th>min</th>\n",
       "      <td>2.340000</td>\n",
       "      <td>25.360000</td>\n",
       "      <td>993.110000</td>\n",
       "      <td>25.890000</td>\n",
       "      <td>433.506276</td>\n",
       "    </tr>\n",
       "    <tr>\n",
       "      <th>25%</th>\n",
       "      <td>13.560000</td>\n",
       "      <td>41.780000</td>\n",
       "      <td>1009.210000</td>\n",
       "      <td>62.990000</td>\n",
       "      <td>451.893897</td>\n",
       "    </tr>\n",
       "    <tr>\n",
       "      <th>50%</th>\n",
       "      <td>20.550000</td>\n",
       "      <td>52.750000</td>\n",
       "      <td>1013.030000</td>\n",
       "      <td>74.855000</td>\n",
       "      <td>463.379534</td>\n",
       "    </tr>\n",
       "    <tr>\n",
       "      <th>75%</th>\n",
       "      <td>25.770000</td>\n",
       "      <td>66.560000</td>\n",
       "      <td>1017.342500</td>\n",
       "      <td>84.790000</td>\n",
       "      <td>480.565764</td>\n",
       "    </tr>\n",
       "    <tr>\n",
       "      <th>max</th>\n",
       "      <td>37.110000</td>\n",
       "      <td>81.560000</td>\n",
       "      <td>1033.300000</td>\n",
       "      <td>100.160000</td>\n",
       "      <td>509.381540</td>\n",
       "    </tr>\n",
       "  </tbody>\n",
       "</table>\n",
       "</div>"
      ],
      "text/plain": [
       "                  AT              V             AP             RH  \\\n",
       "count  191360.000000  191360.000000  191360.000000  191360.000000   \n",
       "mean       19.723857      54.461361    1013.318927      73.165178   \n",
       "std         7.407627      12.679343       5.905789      14.618244   \n",
       "min         2.340000      25.360000     993.110000      25.890000   \n",
       "25%        13.560000      41.780000    1009.210000      62.990000   \n",
       "50%        20.550000      52.750000    1013.030000      74.855000   \n",
       "75%        25.770000      66.560000    1017.342500      84.790000   \n",
       "max        37.110000      81.560000    1033.300000     100.160000   \n",
       "\n",
       "                  PE  \n",
       "count  191360.000000  \n",
       "mean      466.473971  \n",
       "std        17.039985  \n",
       "min       433.506276  \n",
       "25%       451.893897  \n",
       "50%       463.379534  \n",
       "75%       480.565764  \n",
       "max       509.381540  "
      ]
     },
     "execution_count": 95,
     "metadata": {},
     "output_type": "execute_result"
    }
   ],
   "source": [
    "dataset.describe()"
   ]
  },
  {
   "cell_type": "code",
   "execution_count": 96,
   "metadata": {},
   "outputs": [
    {
     "data": {
      "text/plain": [
       "Text(0, 0.5, 'Number of PE')"
      ]
     },
     "execution_count": 96,
     "metadata": {},
     "output_type": "execute_result"
    },
    {
     "data": {
      "image/png": "[encoded data removed]",
      "text/plain": [
       "<Figure size 432x288 with 1 Axes>"
      ]
     },
     "metadata": {
      "needs_background": "light"
     },
     "output_type": "display_data"
    }
   ],
   "source": [
    "# Histogram of PE (this is the target of our dataset)\n",
    "plt.hist(dataset['PE'],bins=100)\n",
    "\n",
    "#label\n",
    "plt.xlabel('Power Output')\n",
    "plt.ylabel('Number of PE')"
   ]
  },
  {
   "cell_type": "markdown",
   "metadata": {},
   "source": [
    "Interesting, now let's see a scatter plot of one feature, versus the target."
   ]
  },
  {
   "cell_type": "code",
   "execution_count": 97,
   "metadata": {},
   "outputs": [
    {
     "data": {
      "image/png": "[encoded data removed]",
      "text/plain": [
       "<Figure size 1080x720 with 4 Axes>"
      ]
     },
     "metadata": {
      "needs_background": "light"
     },
     "output_type": "display_data"
    }
   ],
   "source": [
    "fig = plt.figure(figsize=(15,10))\n",
    "\n",
    "#AT\n",
    "ax = fig.add_subplot(221)\n",
    "plt.scatter(dataset['AT'],dataset['PE'])\n",
    "plt.ylabel('Net hourly electrical energy output (PE)')\n",
    "plt.xlabel('Hourly average ambient variables Temperature (T)')\n",
    "\n",
    "#V\n",
    "ax = fig.add_subplot(222)\n",
    "plt.scatter(dataset['V'],dataset['PE'])\n",
    "plt.ylabel('Net hourly electrical energy output (PE)')\n",
    "plt.xlabel('Hourly Exhaust Vacuum (V)')\n",
    "\n",
    "#AP\n",
    "ax = fig.add_subplot(223)\n",
    "plt.scatter(dataset['AP'],dataset['PE'])\n",
    "plt.ylabel('Net hourly electrical energy output (PE)')\n",
    "plt.xlabel('Hourly Ambient Pressure (AP)')\n",
    "\n",
    "#RH\n",
    "ax = fig.add_subplot(224)\n",
    "plt.scatter(dataset['RH'],dataset['PE'])\n",
    "plt.ylabel('Net hourly electrical energy output (PE)')\n",
    "plt.xlabel('Hourly Relative Humidity (RH)')\n",
    "\n",
    "plt.show()\n"
   ]
  },
  {
   "cell_type": "code",
   "execution_count": 98,
   "metadata": {},
   "outputs": [],
   "source": [
    "# Setting X and y variables\n",
    "\n",
    "X = dataset.iloc[:, :-1].values\n",
    "y = dataset.iloc[:, -1].values"
   ]
  },
  {
   "cell_type": "code",
   "execution_count": 99,
   "metadata": {},
   "outputs": [
    {
     "name": "stdout",
     "output_type": "stream",
     "text": [
      "(191360, 4)\n",
      "(191360,)\n"
     ]
    }
   ],
   "source": [
    "print(X.shape)\n",
    "print(y.shape)"
   ]
  },
  {
   "cell_type": "code",
   "execution_count": 100,
   "metadata": {},
   "outputs": [],
   "source": [
    "# Splitting train and test data\n",
    "\n",
    "from sklearn.model_selection import train_test_split\n",
    "X_train, X_test, y_train, y_test = train_test_split(X, y, test_size=0.2, random_state=0)"
   ]
  },
  {
   "cell_type": "code",
   "execution_count": 101,
   "metadata": {},
   "outputs": [
    {
     "name": "stdout",
     "output_type": "stream",
     "text": [
      "(153088, 4)\n",
      "(38272, 4)\n",
      "(153088,)\n",
      "(38272,)\n"
     ]
    }
   ],
   "source": [
    "print(X_train.shape)\n",
    "print(X_test.shape)\n",
    "print(y_train.shape)\n",
    "print(y_test.shape)"
   ]
  },
  {
   "cell_type": "code",
   "execution_count": 85,
   "metadata": {},
   "outputs": [
    {
     "name": "stdout",
     "output_type": "stream",
     "text": [
      "XGBRegressor(base_score=0.5, booster='gbtree', colsample_bylevel=1,\n",
      "       colsample_bynode=1, colsample_bytree=1, gamma=0,\n",
      "       importance_type='gain', learning_rate=0.12, max_delta_step=0,\n",
      "       max_depth=50, min_child_weight=1, missing=None, n_estimators=300,\n",
      "       n_jobs=-1, nthread=None, objective='reg:squarederror',\n",
      "       random_state=0, reg_alpha=0, reg_lambda=1, scale_pos_weight=1,\n",
      "       seed=None, silent=None, subsample=1, verbosity=1)\n"
     ]
    }
   ],
   "source": [
    "import xgboost as xgb\n",
    "\n",
    "model = xgb.XGBRegressor(objective = \"reg:squarederror\", learning_rate = 0.12, n_estimators = 300, \n",
    "                         max_depth = 50, random_state = 0, n_jobs = -1)\n",
    "print (model)\n",
    "\n",
    "model.fit(X_train,y_train)\n",
    "\n",
    "# Predicting the test set results\n",
    "y_pred = model.predict(data=X_test)"
   ]
  },
  {
   "cell_type": "code",
   "execution_count": 86,
   "metadata": {},
   "outputs": [
    {
     "name": "stdout",
     "output_type": "stream",
     "text": [
      "Mean Absolute Error:  0.35274528752079326\n",
      "Root Mean Squared Error:  0.5795802997953976\n"
     ]
    }
   ],
   "source": [
    "# Calculating metrics to analyze errors in regression\n",
    "\n",
    "from sklearn.metrics  import mean_squared_error, mean_absolute_error\n",
    "from math import sqrt\n",
    "mae = mean_absolute_error(y_test, y_pred)\n",
    "rmse = sqrt(mean_squared_error(y_test, y_pred))\n",
    "print(\"Mean Absolute Error: \" , mae)\n",
    "print('Root Mean Squared Error: ' , rmse)"
   ]
  },
  {
   "cell_type": "code",
   "execution_count": 71,
   "metadata": {},
   "outputs": [
    {
     "name": "stdout",
     "output_type": "stream",
     "text": [
      "Accuracy: 99.88 %\n",
      "Standard Deviation: 0.00 %\n"
     ]
    }
   ],
   "source": [
    "# Applying k-Fold Cross Validation\n",
    "from sklearn.model_selection import cross_val_score\n",
    "accuracies = cross_val_score(estimator = model, X = X_train, y = y_train, cv = 10)\n",
    "print(\"Accuracy: {:.2f} %\".format(accuracies.mean()*100))\n",
    "print(\"Standard Deviation: {:.2f} %\".format(accuracies.std()*100))"
   ]
  },
  {
   "cell_type": "code",
   "execution_count": 87,
   "metadata": {},
   "outputs": [],
   "source": [
    "from xgboost import XGBRegressor\n",
    "from sklearn.metrics  import mean_squared_error, mean_absolute_error\n",
    "from math import sqrt\n",
    "\n",
    "def train_RF(n_est, lr, depth):\n",
    "    rf = XGBRegressor(n_estimators=n_est, learning_rate=lr, max_depth=depth, \n",
    "                      n_jobs=-1, objective = \"reg:squarederror\",  random_state = 0)\n",
    "    rf_model = rf.fit(X_train, y_train)\n",
    "    y_pred = rf_model.predict(X_test)\n",
    "    mae = mean_absolute_error(y_test, y_pred)\n",
    "    rmse = sqrt(mean_squared_error(y_test, y_pred))\n",
    "    print('Est: {} / Learning Rate: {} / Depth: {} ---- MAE: {} / RMSE: {}'.format(\n",
    "        n_est, lr, depth, round(mae, 6), round(rmse, 6)))"
   ]
  },
  {
   "cell_type": "code",
   "execution_count": 88,
   "metadata": {},
   "outputs": [
    {
     "name": "stdout",
     "output_type": "stream",
     "text": [
      "Est: 200 / Learning Rate: 0.1 / Depth: 40 ---- MAE: 0.352756 / RMSE: 0.57958\n",
      "Est: 200 / Learning Rate: 0.1 / Depth: 45 ---- MAE: 0.352745 / RMSE: 0.57958\n",
      "Est: 200 / Learning Rate: 0.1 / Depth: 50 ---- MAE: 0.352748 / RMSE: 0.57958\n",
      "Est: 200 / Learning Rate: 0.115 / Depth: 40 ---- MAE: 0.352752 / RMSE: 0.57958\n",
      "Est: 200 / Learning Rate: 0.115 / Depth: 45 ---- MAE: 0.352741 / RMSE: 0.57958\n",
      "Est: 200 / Learning Rate: 0.115 / Depth: 50 ---- MAE: 0.352739 / RMSE: 0.57958\n",
      "Est: 200 / Learning Rate: 0.12 / Depth: 40 ---- MAE: 0.352754 / RMSE: 0.57958\n",
      "Est: 200 / Learning Rate: 0.12 / Depth: 45 ---- MAE: 0.352741 / RMSE: 0.57958\n",
      "Est: 200 / Learning Rate: 0.12 / Depth: 50 ---- MAE: 0.352745 / RMSE: 0.57958\n",
      "Est: 250 / Learning Rate: 0.1 / Depth: 40 ---- MAE: 0.352756 / RMSE: 0.57958\n",
      "Est: 250 / Learning Rate: 0.1 / Depth: 45 ---- MAE: 0.352745 / RMSE: 0.57958\n",
      "Est: 250 / Learning Rate: 0.1 / Depth: 50 ---- MAE: 0.352748 / RMSE: 0.57958\n",
      "Est: 250 / Learning Rate: 0.115 / Depth: 40 ---- MAE: 0.352752 / RMSE: 0.57958\n",
      "Est: 250 / Learning Rate: 0.115 / Depth: 45 ---- MAE: 0.352741 / RMSE: 0.57958\n",
      "Est: 250 / Learning Rate: 0.115 / Depth: 50 ---- MAE: 0.352739 / RMSE: 0.57958\n",
      "Est: 250 / Learning Rate: 0.12 / Depth: 40 ---- MAE: 0.352754 / RMSE: 0.57958\n",
      "Est: 250 / Learning Rate: 0.12 / Depth: 45 ---- MAE: 0.352741 / RMSE: 0.57958\n",
      "Est: 250 / Learning Rate: 0.12 / Depth: 50 ---- MAE: 0.352745 / RMSE: 0.57958\n",
      "Est: 300 / Learning Rate: 0.1 / Depth: 40 ---- MAE: 0.352756 / RMSE: 0.57958\n",
      "Est: 300 / Learning Rate: 0.1 / Depth: 45 ---- MAE: 0.352745 / RMSE: 0.57958\n",
      "Est: 300 / Learning Rate: 0.1 / Depth: 50 ---- MAE: 0.352748 / RMSE: 0.57958\n",
      "Est: 300 / Learning Rate: 0.115 / Depth: 40 ---- MAE: 0.352752 / RMSE: 0.57958\n",
      "Est: 300 / Learning Rate: 0.115 / Depth: 45 ---- MAE: 0.352741 / RMSE: 0.57958\n",
      "Est: 300 / Learning Rate: 0.115 / Depth: 50 ---- MAE: 0.352739 / RMSE: 0.57958\n",
      "Est: 300 / Learning Rate: 0.12 / Depth: 40 ---- MAE: 0.352754 / RMSE: 0.57958\n",
      "Est: 300 / Learning Rate: 0.12 / Depth: 45 ---- MAE: 0.352741 / RMSE: 0.57958\n",
      "Est: 300 / Learning Rate: 0.12 / Depth: 50 ---- MAE: 0.352745 / RMSE: 0.57958\n"
     ]
    }
   ],
   "source": [
    "for n_est in [200, 250, 300]:\n",
    "    for lr in [0.1, 0.115, 0.12,]:\n",
    "        for depth in [40, 45, 50]:\n",
    "            train_RF(n_est, lr, depth)"
   ]
  },
  {
   "cell_type": "code",
   "execution_count": 37,
   "metadata": {},
   "outputs": [
    {
     "data": {
      "image/png": "[encoded data removed]",
      "text/plain": [
       "<Figure size 576x432 with 1 Axes>"
      ]
     },
     "metadata": {
      "needs_background": "light"
     },
     "output_type": "display_data"
    }
   ],
   "source": [
    "# Visualizing the training set results\n",
    "\n",
    "plt.figure(figsize=(8, 6))\n",
    "labels={'Predicted','original'}\n",
    "plt.plot(y_test, color= 'blue')\n",
    "plt.plot(y_pred, color = 'red')\n",
    "plt.title('Expected Vs Predicted Views Forecasting ')\n",
    "plt.xlabel('Days')\n",
    "plt.ylabel('Total Views')\n",
    "plt.legend(labels)\n",
    "plt.show()"
   ]
  },
  {
   "cell_type": "code",
   "execution_count": 38,
   "metadata": {},
   "outputs": [
    {
     "data": {
      "image/png": "[encoded data removed]",
      "text/plain": [
       "<Figure size 432x288 with 1 Axes>"
      ]
     },
     "metadata": {
      "needs_background": "light"
     },
     "output_type": "display_data"
    }
   ],
   "source": [
    "# Visualizing the training set results\n",
    "\n",
    "plt.scatter(X_test[:,0], y_test, color='red')\n",
    "plt.scatter(X_test[:,0], y_pred, color='blue')\n",
    "plt.title('Power Plant Power Prediction (Test Set Results)')\n",
    "plt.xlabel('Days')\n",
    "plt.ylabel('Sales')\n",
    "plt.show()"
   ]
  },
  {
   "cell_type": "code",
   "execution_count": 102,
   "metadata": {},
   "outputs": [],
   "source": [
    "# Preparing for submission\n",
    "\n",
    "X_test = pd.read_csv('E:/JupyterProjects/Machine_Hack/Test.csv')"
   ]
  },
  {
   "cell_type": "code",
   "execution_count": 103,
   "metadata": {},
   "outputs": [
    {
     "data": {
      "text/plain": [
       "(38272, 4)"
      ]
     },
     "execution_count": 103,
     "metadata": {},
     "output_type": "execute_result"
    }
   ],
   "source": [
    "X_test.shape"
   ]
  },
  {
   "cell_type": "code",
   "execution_count": 104,
   "metadata": {},
   "outputs": [
    {
     "data": {
      "text/html": [
       "<div>\n",
       "<style scoped>\n",
       "    .dataframe tbody tr th:only-of-type {\n",
       "        vertical-align: middle;\n",
       "    }\n",
       "\n",
       "    .dataframe tbody tr th {\n",
       "        vertical-align: top;\n",
       "    }\n",
       "\n",
       "    .dataframe thead th {\n",
       "        text-align: right;\n",
       "    }\n",
       "</style>\n",
       "<table border=\"1\" class=\"dataframe\">\n",
       "  <thead>\n",
       "    <tr style=\"text-align: right;\">\n",
       "      <th></th>\n",
       "      <th>AT</th>\n",
       "      <th>V</th>\n",
       "      <th>AP</th>\n",
       "      <th>RH</th>\n",
       "    </tr>\n",
       "  </thead>\n",
       "  <tbody>\n",
       "    <tr>\n",
       "      <th>0</th>\n",
       "      <td>16.98</td>\n",
       "      <td>53.16</td>\n",
       "      <td>1013.95</td>\n",
       "      <td>82.80</td>\n",
       "    </tr>\n",
       "    <tr>\n",
       "      <th>1</th>\n",
       "      <td>9.60</td>\n",
       "      <td>41.03</td>\n",
       "      <td>1021.01</td>\n",
       "      <td>69.03</td>\n",
       "    </tr>\n",
       "    <tr>\n",
       "      <th>2</th>\n",
       "      <td>6.11</td>\n",
       "      <td>38.68</td>\n",
       "      <td>1017.53</td>\n",
       "      <td>79.23</td>\n",
       "    </tr>\n",
       "    <tr>\n",
       "      <th>3</th>\n",
       "      <td>12.34</td>\n",
       "      <td>43.22</td>\n",
       "      <td>1009.28</td>\n",
       "      <td>78.23</td>\n",
       "    </tr>\n",
       "    <tr>\n",
       "      <th>4</th>\n",
       "      <td>27.67</td>\n",
       "      <td>59.14</td>\n",
       "      <td>1016.51</td>\n",
       "      <td>61.20</td>\n",
       "    </tr>\n",
       "  </tbody>\n",
       "</table>\n",
       "</div>"
      ],
      "text/plain": [
       "      AT      V       AP     RH\n",
       "0  16.98  53.16  1013.95  82.80\n",
       "1   9.60  41.03  1021.01  69.03\n",
       "2   6.11  38.68  1017.53  79.23\n",
       "3  12.34  43.22  1009.28  78.23\n",
       "4  27.67  59.14  1016.51  61.20"
      ]
     },
     "execution_count": 104,
     "metadata": {},
     "output_type": "execute_result"
    }
   ],
   "source": [
    "X_test.head()"
   ]
  },
  {
   "cell_type": "code",
   "execution_count": 105,
   "metadata": {},
   "outputs": [
    {
     "name": "stdout",
     "output_type": "stream",
     "text": [
      "XGBRegressor(base_score=0.5, booster='gbtree', colsample_bylevel=1,\n",
      "       colsample_bynode=1, colsample_bytree=1, gamma=0,\n",
      "       importance_type='gain', learning_rate=0.1, max_delta_step=0,\n",
      "       max_depth=45, min_child_weight=1, missing=None, n_estimators=300,\n",
      "       n_jobs=-1, nthread=None, objective='reg:squarederror',\n",
      "       random_state=0, reg_alpha=0, reg_lambda=1, scale_pos_weight=1,\n",
      "       seed=None, silent=None, subsample=1, verbosity=1)\n"
     ]
    }
   ],
   "source": [
    "# Setting Linear Regression Model\n",
    "\n",
    "from xgboost import XGBRegressor\n",
    "\n",
    "regressor = XGBRegressor(objective = \"reg:squarederror\", learning_rate = 0.1, n_estimators = 300, \n",
    "                         max_depth = 45, random_state = 0, n_jobs = -1)\n",
    "regressor.fit(X, y)\n",
    "print(regressor)\n",
    "\n",
    "# Predicting the test set results\n",
    "y_pred = regressor.predict(X_test.values)"
   ]
  },
  {
   "cell_type": "code",
   "execution_count": 106,
   "metadata": {},
   "outputs": [],
   "source": [
    "submission = pd.DataFrame(y_pred)\n",
    "submission.columns = ['PE']\n",
    "submission.to_excel('Submission.xlsx', index=False)"
   ]
  },
  {
   "cell_type": "code",
   "execution_count": null,
   "metadata": {},
   "outputs": [],
   "source": []
  }
 ],
 "metadata": {
  "kernelspec": {
   "display_name": "Python 3",
   "language": "python",
   "name": "python3"
  },
  "language_info": {
   "codemirror_mode": {
    "name": "ipython",
    "version": 3
   },
   "file_extension": ".py",
   "mimetype": "text/x-python",
   "name": "python",
   "nbconvert_exporter": "python",
   "pygments_lexer": "ipython3",
   "version": "3.6.9"
  }
 },
 "nbformat": 4,
 "nbformat_minor": 2
}
